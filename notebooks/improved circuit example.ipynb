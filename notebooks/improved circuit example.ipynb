{
 "cells": [
  {
   "cell_type": "markdown",
   "metadata": {},
   "source": [
    "This notebook contains example circuit classes.\n",
    "\n",
    "The three circuits *Not*, *Or*, and *And* are used to build progressively more complicated circuits culminating in a four bit binary adder."
   ]
  },
  {
   "cell_type": "code",
   "execution_count": 50,
   "metadata": {
    "collapsed": true
   },
   "outputs": [],
   "source": [
    "class Connector():\n",
    "    def __init__(self, owner, name, activates=0, monitor=0):\n",
    "        self.value = None\n",
    "        self.owner = owner\n",
    "        self.name = name\n",
    "        self.monitor = monitor\n",
    "        self.connects = []\n",
    "        self.activates = activates\n",
    "        \n",
    "    def connect(self, inputs):\n",
    "        if not isinstance(inputs, list):\n",
    "            inputs = [inputs]\n",
    "        for input in inputs:\n",
    "            self.connects.append(input)\n",
    "            \n",
    "    def set(self, value):\n",
    "        if self.value == value:\n",
    "            return\n",
    "        self.value = value\n",
    "        if self.activates:\n",
    "            self.owner.evaluate()\n",
    "        if self.monitor:\n",
    "            print('Connector {}-{} set to {}'.format(self.owner.name,\n",
    "                                                    self.name,\n",
    "                                                    self.value))\n",
    "        for con in self.connects:\n",
    "            con.set(value)\n",
    "            \n",
    "\n",
    "    "
   ]
  },
  {
   "cell_type": "code",
   "execution_count": 54,
   "metadata": {
    "collapsed": true
   },
   "outputs": [],
   "source": [
    "class LC:\n",
    "    def __init__(self, name):\n",
    "        self.name = name\n",
    "        \n",
    "    def evaluate(self):\n",
    "        return\n",
    "    \n",
    "class Not(LC):\n",
    "    def __init__(self, name):\n",
    "        super().__init__( name)\n",
    "        self.A = Connector(self, 'A', activates=1)\n",
    "        self.B = Connector(self, 'B')\n",
    "        \n",
    "    def evaluate(self):\n",
    "        self.B.set(not self.A.value)\n",
    "        \n",
    "class Gate2(LC):\n",
    "    def __init__(self, name):\n",
    "        super().__init__( name)\n",
    "        \n",
    "        self.A = Connector(self, 'A', activates=1)\n",
    "        self.B = Connector(self, 'B', activates=1)\n",
    "        self.C = Connector(self, 'C')\n",
    "        \n",
    "class AndGate(Gate2):\n",
    "    def __init__(self, name):\n",
    "        super().__init__( name)\n",
    "        \n",
    "    def evaluate(self):\n",
    "        self.C.set(self.A.value and self.B.value)\n",
    "        \n",
    "class Or(Gate2):\n",
    "    def __init__(self, name):\n",
    "        super().__init__( name)\n",
    "        \n",
    "    def evaluate(self):\n",
    "        self.C.set(self.A.value or self.B.value)\n",
    "        \n",
    "class Xor(Gate2):\n",
    "    def __init__(self, name):\n",
    "        super().__init__(name)\n",
    "        \n",
    "        self.A1 = AndGate('A1')\n",
    "        self.A2 = AndGate('A2')\n",
    "        self.N1 = Not('N1')\n",
    "        self.N2 = Not('N2')\n",
    "        self.OR1 = Or('OR1')\n",
    "        \n",
    "        self.A.connect([self.A1.A, self.N2.A])\n",
    "        self.B.connect([self.N1.A, self.A2.A])\n",
    "        \n",
    "        self.N1.B.connect([self.A1.B])\n",
    "        self.N2.B.connect([self.A2.B])\n",
    "        \n",
    "        self.A1.C.connect([self.OR1.A])\n",
    "        self.A2.C.connect([self.OR1.B])\n",
    "        \n",
    "        self.OR1.C.connect([self.C])\n",
    "\n",
    "        \n",
    "\n"
   ]
  },
  {
   "cell_type": "code",
   "execution_count": 77,
   "metadata": {
    "collapsed": true
   },
   "outputs": [],
   "source": [
    "class HalfAdder(LC):\n",
    "    def __init__(self, name):\n",
    "        super().__init__(name)\n",
    "        \n",
    "        self.A = Connector(self, 'A', 1)\n",
    "        self.B = Connector(self, 'B', 1)\n",
    "        self.S = Connector(self, 'S')\n",
    "        self.C = Connector(self, 'C')\n",
    "        \n",
    "        self.XOR1 = Xor('XOR1')\n",
    "        self.A1 = AndGate('A1')\n",
    "        \n",
    "        self.A.connect([self.A1.A, self.XOR1.A])\n",
    "        self.B.connect([self.A1.B, self.XOR1.B])\n",
    "        \n",
    "        self.XOR1.C.connect([self.S])\n",
    "        self.A1.C.connect([self.C])\n",
    "        \n",
    "class FullAdder(LC):\n",
    "    def __init__(self, name):\n",
    "        super().__init__(name)\n",
    "        \n",
    "        self.A = Connector(self, 'A', 1)\n",
    "        self.B = Connector(self, 'B', 1)\n",
    "        self.Cin = Connector(self, 'Cin', 1)\n",
    "        self.S = Connector(self, 'S')\n",
    "        self.S.monitor=1\n",
    "        self.Cout = Connector(self, 'Cout')\n",
    "        self.Cout.monitor=1\n",
    "        \n",
    "        self.Or1 = Or('OR1')\n",
    "        self.HA1 = HalfAdder('HA1')\n",
    "        self.HA2 = HalfAdder('HA2')\n",
    "        \n",
    "        self.A.connect([self.HA1.A])\n",
    "        self.B.connect([self.HA1.B])\n",
    "        self.Cin.connect([self.HA2.A])\n",
    "        self.HA1.S.connect([self.HA2.B])\n",
    "        \n",
    "        self.HA1.C.connect([self.Or1.A])\n",
    "        self.HA2.C.connect([self.Or1.B])\n",
    "        \n",
    "        self.HA2.S.connect([self.S])\n",
    "        \n",
    "        self.Or1.C.connect([self.Cout])\n",
    "        \n",
    "    "
   ]
  },
  {
   "cell_type": "code",
   "execution_count": 78,
   "metadata": {},
   "outputs": [
    {
     "name": "stdout",
     "output_type": "stream",
     "text": [
      "Connector H1-Cout set to 1\n",
      "Connector H1-S set to False\n",
      "Connector H1-S set to True\n"
     ]
    }
   ],
   "source": [
    "ha = FullAdder('H1')\n",
    "ha.A.set(1)\n",
    "ha.B.set(1)\n",
    "ha.Cin.set(1)"
   ]
  },
  {
   "cell_type": "code",
   "execution_count": 81,
   "metadata": {
    "collapsed": true
   },
   "outputs": [],
   "source": [
    "def bit(x, bit):\n",
    "    return x[bit] == '1'"
   ]
  },
  {
   "cell_type": "code",
   "execution_count": 86,
   "metadata": {
    "collapsed": true
   },
   "outputs": [],
   "source": [
    "def test4Bit(a,b):\n",
    "    F0 = FullAdder('F0')\n",
    "    F1 = FullAdder('F1')\n",
    "    F0.Cout.connect(F1.Cin)\n",
    "    F2 = FullAdder('F2')\n",
    "    F1.Cout.connect(F2.Cin)\n",
    "    F3 = FullAdder('F3')\n",
    "    F2.Cout.connect(F3.Cin)\n",
    "    \n",
    "    F0.Cin.set(0)\n",
    "    F0.A.set(bit(a, 3))\n",
    "    F0.B.set(bit(b, 3))\n",
    "    F1.A.set(bit(a, 2))\n",
    "    F1.B.set(bit(b, 2))\n",
    "    F2.A.set(bit(a, 1))\n",
    "    F2.B.set(bit(b, 1))\n",
    "    F3.A.set(bit(a, 0))\n",
    "    F3.B.set(bit(b, 0))\n",
    "    \n",
    "    print(int(F3.Cout.value), int(F3.S.value), int(F2.S.value),\n",
    "          int(F1.S.value), int(F0.S.value))\n",
    "    \n",
    "    \n",
    "    "
   ]
  },
  {
   "cell_type": "code",
   "execution_count": 87,
   "metadata": {},
   "outputs": [
    {
     "name": "stdout",
     "output_type": "stream",
     "text": [
      "Connector F0-Cout set to 0\n",
      "Connector F1-Cout set to 0\n",
      "Connector F2-Cout set to 0\n",
      "Connector F3-Cout set to 0\n",
      "Connector F0-S set to True\n",
      "Connector F1-Cout set to True\n",
      "Connector F2-Cout set to None\n",
      "Connector F3-Cout set to None\n",
      "Connector F1-S set to False\n",
      "Connector F2-Cout set to True\n",
      "Connector F2-S set to False\n",
      "Connector F3-Cout set to False\n",
      "Connector F3-S set to True\n",
      "0 1 0 0 1\n"
     ]
    }
   ],
   "source": [
    "test4Bit('0011', '0110')"
   ]
  }
 ],
 "metadata": {
  "kernelspec": {
   "display_name": "Python 3",
   "language": "python",
   "name": "python3"
  },
  "language_info": {
   "codemirror_mode": {
    "name": "ipython",
    "version": 3
   },
   "file_extension": ".py",
   "mimetype": "text/x-python",
   "name": "python",
   "nbconvert_exporter": "python",
   "pygments_lexer": "ipython3",
   "version": "3.6.1"
  }
 },
 "nbformat": 4,
 "nbformat_minor": 2
}
