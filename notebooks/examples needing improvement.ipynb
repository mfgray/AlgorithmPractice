{
 "cells": [
  {
   "cell_type": "markdown",
   "metadata": {},
   "source": [
    "These examples come from the python algorith book titled [*Problem Solving with Algorithms and Data Structures using Python*](http://interactivepython.org/courselib/static/pythonds/index.html) by Brad Miller and David Ranum.\n",
    "\n",
    "The first example, the *Fraction* class, is reasonably implemented, but the second example, circuit classes, is deficient.\n",
    "\n",
    "While the implementation of the *Nor* gate shows a nice example of the use of 'super', it is challenging to build up more complicated logic gates like *XOR* from the primitive *Not*, *And*, and *Or* gate implementations. The author's self check 5 solution video shows the *Nor* gate being build by using inheritance from *Or* and then making trivial changes to the gate logic line rather than joining *Or* and *Not* gates. That example does not help the reader figure out how to connect multiple circuits together, a task that becomes difficult for circuits that have two imputs both wired to two different gates (e.g. a half adder) due to the way pins are set and gate logic is performed."
   ]
  },
  {
   "cell_type": "code",
   "execution_count": 1,
   "metadata": {
    "collapsed": true
   },
   "outputs": [],
   "source": [
    "class Fraction:\n",
    "    \n",
    "    def __init__(self, top, bottom=1):\n",
    "        \n",
    "        if bottom < 0:\n",
    "            top = - top\n",
    "            bottom = - bottom\n",
    "        \n",
    "        num, den = reduced(top, bottom)\n",
    "        if type(num) != int or type(den) != int:\n",
    "            raise RuntimeError('num and den must be Integers')\n",
    "            \n",
    "        self.num = num\n",
    "        self.den = den\n",
    "    \n",
    "    def show(self):\n",
    "        print(self.num, '/', self.den)\n",
    "        \n",
    "    def __repr__(self):\n",
    "        return 'Fraction(' + repr(self.num) + ',' + repr(self.den) + ')'\n",
    "    \n",
    "    def __str__(self):\n",
    "        return str(self.num) +'/' + str(self.den)\n",
    "    \n",
    "    def __add__(self, other):\n",
    "        \n",
    "        new_num = self.num * other.den + other.num * self.den\n",
    "        new_den = self.den * other.den\n",
    "        \n",
    "        return Fraction(new_num, new_den)\n",
    "    \n",
    "    def __radd__(self, other):\n",
    "        \n",
    "        new_num = self.num * other.den + other.num * self.den\n",
    "        new_den = self.den * other.den\n",
    "        \n",
    "        return Fraction(new_num, new_den)\n",
    "    \n",
    "    def __iadd__(self, other):\n",
    "        \n",
    "        new_num = self.num * other.den + other.num * self.den\n",
    "        new_den = self.den * other.den\n",
    "        \n",
    "        return Fraction(new_num, new_den)\n",
    "    \n",
    "    def __eq__(self, other):\n",
    "        \n",
    "        first_num = self.num * other.den\n",
    "        second_num = other.num * self.den\n",
    "        return first_num == second_num\n",
    "    \n",
    "    def __mul__(self, other):\n",
    "        new_num = self.num * other.num\n",
    "        new_den = self.den * other.den\n",
    "        return Fraction(new_num, new_den)\n",
    "    \n",
    "    def __truediv__(self, other):\n",
    "        new_num = self.num * other.den\n",
    "        new_den = other.num * self.den\n",
    "        return Fraction(new_num, new_den)\n",
    "    \n",
    "    def __sub__(self, other):\n",
    "        new_num = self.num * other.den - other.num * self.den\n",
    "        new_den = other.den * self.den\n",
    "        return Fraction(new_num, new_den)\n",
    "    \n",
    "    def __gt__(self, other):\n",
    "        first_num = self.num * other.den\n",
    "        second_num = other.num * self.den\n",
    "        return first_num > second_num\n",
    "    \n",
    "    def __lt__(self, other):\n",
    "        first_num = self.num * other.den\n",
    "        second_num = other.num * self.den\n",
    "        return first_num < second_num\n",
    "\n",
    "    \n",
    "    \n",
    "\n",
    "\n",
    "def reduced(num, den):\n",
    "    common = gcd(num, den)\n",
    "    return num // common, den // common\n",
    "\n",
    "    \n",
    "def gcd(m, n):\n",
    "    while m%n != 0:\n",
    "        old_m = m\n",
    "        old_n = n\n",
    "        \n",
    "        m = old_n\n",
    "        n = old_m % old_n\n",
    "    return n\n",
    "\n",
    "\n"
   ]
  },
  {
   "cell_type": "code",
   "execution_count": 3,
   "metadata": {},
   "outputs": [
    {
     "name": "stdout",
     "output_type": "stream",
     "text": [
      "4/3\n"
     ]
    }
   ],
   "source": [
    "print(Fraction(20, 15))"
   ]
  },
  {
   "cell_type": "code",
   "execution_count": 4,
   "metadata": {},
   "outputs": [
    {
     "data": {
      "text/plain": [
       "'2/3'"
      ]
     },
     "execution_count": 4,
     "metadata": {},
     "output_type": "execute_result"
    }
   ],
   "source": [
    "mf = Fraction(2,3)\n",
    "str(mf)"
   ]
  },
  {
   "cell_type": "code",
   "execution_count": 5,
   "metadata": {},
   "outputs": [
    {
     "data": {
      "text/plain": [
       "'Fraction(2,3)'"
      ]
     },
     "execution_count": 5,
     "metadata": {},
     "output_type": "execute_result"
    }
   ],
   "source": [
    "repr(mf)"
   ]
  },
  {
   "cell_type": "code",
   "execution_count": 6,
   "metadata": {
    "collapsed": true
   },
   "outputs": [],
   "source": [
    "f1 = Fraction(2, 35)\n",
    "f2 = Fraction(3, 21)\n",
    "f3 = Fraction(1, 5)\n",
    "f4 = Fraction(2, 3)"
   ]
  },
  {
   "cell_type": "code",
   "execution_count": 7,
   "metadata": {},
   "outputs": [
    {
     "name": "stdout",
     "output_type": "stream",
     "text": [
      "2/7\n"
     ]
    }
   ],
   "source": [
    "f2 += f2\n",
    "print(f2)"
   ]
  },
  {
   "cell_type": "code",
   "execution_count": 8,
   "metadata": {},
   "outputs": [
    {
     "data": {
      "text/plain": [
       "True"
      ]
     },
     "execution_count": 8,
     "metadata": {},
     "output_type": "execute_result"
    }
   ],
   "source": [
    "(f1) < f3"
   ]
  },
  {
   "cell_type": "code",
   "execution_count": 9,
   "metadata": {},
   "outputs": [
    {
     "name": "stdout",
     "output_type": "stream",
     "text": [
      "2/7\n"
     ]
    }
   ],
   "source": [
    "print(f1 / ( f3))"
   ]
  },
  {
   "cell_type": "code",
   "execution_count": 10,
   "metadata": {},
   "outputs": [
    {
     "name": "stdout",
     "output_type": "stream",
     "text": [
      "2/15\n"
     ]
    }
   ],
   "source": [
    "print(f3 * ( f4))"
   ]
  },
  {
   "cell_type": "code",
   "execution_count": 110,
   "metadata": {},
   "outputs": [
    {
     "data": {
      "text/plain": [
       "1"
      ]
     },
     "execution_count": 110,
     "metadata": {},
     "output_type": "execute_result"
    }
   ],
   "source": [
    "1"
   ]
  },
  {
   "cell_type": "code",
   "execution_count": 161,
   "metadata": {
    "collapsed": true
   },
   "outputs": [],
   "source": [
    "class LogicGate:\n",
    "    \n",
    "    def __init__(self, n):\n",
    "        self.label = n\n",
    "        self.output = None\n",
    "        \n",
    "    def getLabel(self):\n",
    "        return self.label\n",
    "    \n",
    "    def getOutput(self):\n",
    "        self.output = self.performGateLogic()\n",
    "        return self.output\n",
    "    \n",
    "class BinaryGate(LogicGate):\n",
    "    \n",
    "    def __init__(self, n):\n",
    "        LogicGate.__init__(self,n)\n",
    "        \n",
    "        self.pinA = None\n",
    "        self.pinB = None\n",
    "        \n",
    "#     def setPinA():\n",
    "#          if self.pinA == None:\n",
    "#             print('pin not set:', self.getLabel())\n",
    "#             self.pinA = int(input('Enter Pin A input for gate ' + \n",
    "#                          self.getLabel() +'-->'))\n",
    "#         else:\n",
    "#             raise RuntimeError('Error: PIN ALREADY SET')\n",
    "            \n",
    "#     def setPinA():\n",
    "#          if self.pinB == None:\n",
    "#             print('pin not set:', self.getLabel())\n",
    "#             self.pinB = int(input('Enter Pin B input for gate ' + \n",
    "#                          self.getLabel() +'-->'))\n",
    "#         else:\n",
    "#             raise RuntimeError('Error: PIN ALREADY SET')\n",
    "        \n",
    "    def getPinA(self):\n",
    "        if self.pinA == None:\n",
    "            print('pin not set:', self.getLabel())\n",
    "            return int(input('Enter Pin A input for gate ' + \n",
    "                         self.getLabel() +'-->'))\n",
    "        elif type(self.pinA) == int:\n",
    "            return self.pinA\n",
    "        else:\n",
    "            return self.pinA.getFrom().getOutput()\n",
    "    \n",
    "    def getPinB(self):\n",
    "        if self.pinB == None:\n",
    "            return int(input('Enter Pin B input for gate ' + \n",
    "                         self.getLabel() +'-->'))\n",
    "        elif type(self.pinB) == int:\n",
    "            return self.pinB\n",
    "        else:\n",
    "            print(self.pinB.getFrom().getLabel())\n",
    "            return self.pinB.getFrom().getOutput()\n",
    "    \n",
    "    def setNextPin(self, source):\n",
    "        if self.pinA == None:\n",
    "            self.pinA = source\n",
    "        elif self.pinB == None:\n",
    "            self.pinB = source\n",
    "        else:\n",
    "            raise RuntimeError('Error: NO EMPTY PINS')\n",
    "\n",
    "class UnaryGate(LogicGate):\n",
    "    \n",
    "    def __init__(self,n):\n",
    "        LogicGate.__init__(self,n)\n",
    "        \n",
    "        self.pin = None\n",
    "        \n",
    "    def getPin(self):\n",
    "        if self.pin == None:\n",
    "            return int(input(\"enter Pin input for gate \" + \n",
    "                         self.getLabel() + '-->'))\n",
    "        elif type(self.pin) == int:\n",
    "            return self.pin\n",
    "        else:\n",
    "            return self.pin.getFrom().getOutput()  \n",
    "            \n",
    "    def setNextPin(self, source):\n",
    "        if self.pin == None:\n",
    "            self.pin = source\n",
    "        else:\n",
    "            raise RuntimeError('Error: NO EMPTY PINS')\n",
    "    "
   ]
  },
  {
   "cell_type": "code",
   "execution_count": 171,
   "metadata": {
    "collapsed": true
   },
   "outputs": [],
   "source": [
    "class AndGate(BinaryGate):\n",
    "    \n",
    "    def __init__(self, n):\n",
    "        BinaryGate.__init__(self,n)\n",
    "        \n",
    "    def performGateLogic(self):\n",
    "        a = self.getPinA()\n",
    "        print('a', a)\n",
    "        b = self.getPinB()\n",
    "        print('b', b)\n",
    "        if a==1 and b==1:\n",
    "            return 1\n",
    "        else:\n",
    "            return 0\n",
    "        \n",
    "class OrGate(BinaryGate):\n",
    "    \n",
    "    def __init__(self, n):\n",
    "        BinaryGate.__init__(self,n)\n",
    "        \n",
    "    def performGateLogic(self):\n",
    "\n",
    "        a = self.getPinA()\n",
    "        b = self.getPinB()\n",
    "        \n",
    "        if a==1 or b==1:\n",
    "            return 1\n",
    "        else:\n",
    "            return 0\n",
    "        \n",
    "        \n",
    "class NotGate(UnaryGate):\n",
    "    \n",
    "    def __init__(self, n):\n",
    "        UnaryGate.__init__(self,n)\n",
    "        \n",
    "    def performGateLogic(self):\n",
    "        a = self.getPin()\n",
    "        \n",
    "        if a==1:\n",
    "            return 0\n",
    "        else:\n",
    "            return 1\n",
    "\n",
    "class InputGate(UnaryGate):\n",
    "    \n",
    "    def __init__(self, n):\n",
    "        UnaryGate.__init__(self, n)\n",
    "        \n",
    "    def performGateLogic(self):\n",
    "        return self.getPin()"
   ]
  },
  {
   "cell_type": "code",
   "execution_count": 185,
   "metadata": {
    "code_folding": [
     14
    ],
    "collapsed": true
   },
   "outputs": [],
   "source": [
    "class NorGate(OrGate):   \n",
    "    def performGateLogic(self):\n",
    "        if super().performGateLogic() == 1:\n",
    "            return 0\n",
    "        else:\n",
    "            return 1\n",
    "        \n",
    "class XorGate(BinaryGate):\n",
    "    \n",
    "    def __init__(self, n):\n",
    "        BinaryGate.__init__(self,n)\n",
    "        \n",
    "    def performGateLogic(self):\n",
    "        a = self.getPinA()\n",
    "        b = self.getPinB()\n",
    "        \n",
    "        if a != b:\n",
    "            return 1\n",
    "        else:\n",
    "            return 0\n",
    "        \n",
    "              \n",
    "class NandGate(AndGate):\n",
    "    def performGateLogic(self):\n",
    "        if super().performGateLogic() == 1:\n",
    "            return 0\n",
    "        else:\n",
    "            return 1"
   ]
  },
  {
   "cell_type": "code",
   "execution_count": 173,
   "metadata": {
    "collapsed": true
   },
   "outputs": [],
   "source": [
    "class Connector:\n",
    "    \n",
    "    def __init__(self, fgate, tgate):\n",
    "        self.fromgate = fgate\n",
    "        self.togate = tgate\n",
    "        \n",
    "        tgate.setNextPin(self)\n",
    "        \n",
    "    def getFrom(self):\n",
    "        return self.fromgate\n",
    "    \n",
    "    def getTo(self):\n",
    "        return self.togate"
   ]
  },
  {
   "cell_type": "code",
   "execution_count": 178,
   "metadata": {
    "code_folding": [],
    "collapsed": true
   },
   "outputs": [],
   "source": [
    "class NandGate(BinaryGate):\n",
    "    \n",
    "    def __init__(self, name):\n",
    "        BinaryGate.__init__(self, name)\n",
    "        \n",
    "        self.a1 = AndGate('A1')\n",
    "        self.n1 = NotGate('N1')\n",
    "        self.c1 = Connector(self.a1, self.n1)\n",
    "         \n",
    "        \n",
    "    def performGateLogic(self):\n",
    "        a = self.getPinA()\n",
    "        b = self.getPinB()\n",
    "\n",
    "        self.a1.setNextPin(a)\n",
    "        self.a1.setNextPin(b)\n",
    "\n",
    "        return self.n1.getOutput()\n",
    "    \n",
    "class NorGate(BinaryGate):\n",
    "    \n",
    "    def __init__(self, name):\n",
    "        BinaryGate.__init__(self, name)\n",
    "        \n",
    "        self.o1 = OrGate('O1')\n",
    "        self.n1 = NotGate('N1')\n",
    "        self.c1 = Connector(self.o1, self.n1)\n",
    "        \n",
    "    def performGateLogic(self):\n",
    "        \n",
    "        a = self.getPinA()\n",
    "        b = self.getPinB()\n",
    "        \n",
    "        self.o1.setNextPin(a)\n",
    "        self.o1.setNextPin(b)\n",
    "        \n",
    "        \n",
    "        \n",
    "        return self.n1.getOutput()\n",
    "    \n",
    "class XorGate(BinaryGate):\n",
    "    \n",
    "    def __init__(self, name):\n",
    "        BinaryGate.__init__(self, name)\n",
    "    \n",
    "    \n",
    "        self.na1 = NandGate('NA1')\n",
    "        self.a1 = AndGate('A1')\n",
    "        self.o1 = OrGate('O1')        \n",
    "        self.n1 = NotGate('N1')\n",
    "        \n",
    "        self.c2a1 = Connector(self.na1, self.a1)\n",
    "        self.c2a2 = Connector(self.o1, self.a1)\n",
    "\n",
    "        \n",
    "    def performGateLogic(self):\n",
    "        a = self.getPinA()\n",
    "        b = self.getPinB()\n",
    "        \n",
    "        self.na1.setNextPin(a)\n",
    "        self.na1.setNextPin(b)\n",
    "        \n",
    "        self.o1.setNextPin(a)\n",
    "        self.o1.setNextPin(b)\n",
    "        \n",
    "        \n",
    "        return self.a1.getOutput()\n",
    "    \n"
   ]
  },
  {
   "cell_type": "code",
   "execution_count": 208,
   "metadata": {
    "collapsed": true
   },
   "outputs": [],
   "source": [
    "class HalfAdder(BinaryGate):\n",
    "    \n",
    "    def __init__(self, name):\n",
    "        BinaryGate.__init__(self, name)\n",
    "\n",
    "        self.an = AndGate('A1')\n",
    "        self.xr = XorGate('XR1')\n",
    "    \n",
    "    def performGateLogic(self):\n",
    "        p1 = self.getPinA()\n",
    "        p2 = self.getPinB()\n",
    "        \n",
    "        self.an.setNextPin(p1)\n",
    "        self.an.setNextPin(p2)\n",
    "        \n",
    "        self.xr.setNextPin(p1)\n",
    "        self.xr.setNextPin(p2)\n",
    "        \n",
    "        adder_sum = self.an.getOutput()\n",
    "        adder_carry = self.xr.getOutput()\n",
    "\n",
    "        return adder_sum * 10 + adder_carry\n",
    "        "
   ]
  },
  {
   "cell_type": "code",
   "execution_count": 212,
   "metadata": {},
   "outputs": [
    {
     "name": "stdout",
     "output_type": "stream",
     "text": [
      "pin not set: HA1\n",
      "Enter Pin A input for gate HA1-->0\n",
      "Enter Pin B input for gate HA1-->0\n",
      "a 0\n",
      "b 0\n"
     ]
    },
    {
     "data": {
      "text/plain": [
       "0"
      ]
     },
     "execution_count": 212,
     "metadata": {},
     "output_type": "execute_result"
    }
   ],
   "source": [
    "ha = HalfAdder('HA1')\n",
    "\n",
    "ha.getOutput()"
   ]
  },
  {
   "cell_type": "code",
   "execution_count": 166,
   "metadata": {},
   "outputs": [
    {
     "name": "stdout",
     "output_type": "stream",
     "text": [
      "pin not set: NA1\n",
      "Enter Pin A input for gate NA1-->0\n",
      "Enter Pin B input for gate NA1-->0\n",
      "0\n",
      "0\n",
      "a 0\n",
      "b 0\n",
      "0\n",
      "a 0\n",
      "b 0\n"
     ]
    },
    {
     "data": {
      "text/plain": [
       "1"
      ]
     },
     "execution_count": 166,
     "metadata": {},
     "output_type": "execute_result"
    }
   ],
   "source": [
    "na = NandGate('NA1')\n",
    "na.getOutput()"
   ]
  },
  {
   "cell_type": "code",
   "execution_count": 177,
   "metadata": {},
   "outputs": [
    {
     "name": "stdout",
     "output_type": "stream",
     "text": [
      "pin not set: NOR1\n",
      "Enter Pin A input for gate NOR1-->0\n",
      "Enter Pin B input for gate NOR1-->1\n"
     ]
    },
    {
     "data": {
      "text/plain": [
       "0"
      ]
     },
     "execution_count": 177,
     "metadata": {},
     "output_type": "execute_result"
    }
   ],
   "source": [
    "nor = NorGate('NOR1')\n",
    "nor.getOutput()"
   ]
  },
  {
   "cell_type": "code",
   "execution_count": 182,
   "metadata": {},
   "outputs": [
    {
     "name": "stdout",
     "output_type": "stream",
     "text": [
      "pin not set: XOR1\n",
      "Enter Pin A input for gate XOR1-->0\n",
      "Enter Pin B input for gate XOR1-->0\n",
      "a 0\n",
      "b 0\n",
      "a 1\n",
      "O1\n",
      "b 0\n"
     ]
    },
    {
     "data": {
      "text/plain": [
       "0"
      ]
     },
     "execution_count": 182,
     "metadata": {},
     "output_type": "execute_result"
    }
   ],
   "source": [
    "xor = XorGate('XOR1')\n",
    "xor.performGateLogic()\n",
    "# xor.printInput()"
   ]
  },
  {
   "cell_type": "code",
   "execution_count": 195,
   "metadata": {},
   "outputs": [
    {
     "name": "stdout",
     "output_type": "stream",
     "text": [
      "pin not set: H0\n",
      "Enter Pin A input for gate H0-->0\n",
      "a 0\n",
      "Enter Pin B input for gate H0-->0\n",
      "b 0\n",
      "H1\n",
      "pin not set: H1\n",
      "Enter Pin A input for gate H1-->0\n",
      "a 0\n",
      "Enter Pin B input for gate H1-->0\n",
      "b 0\n"
     ]
    },
    {
     "data": {
      "text/plain": [
       "1"
      ]
     },
     "execution_count": 195,
     "metadata": {},
     "output_type": "execute_result"
    }
   ],
   "source": [
    "h0 = AndGate('H0')\n",
    "h1 = AndGate('H1')\n",
    "h2 = NorGate('H2')\n",
    "\n",
    "hc1 = Connector(h0, h2)\n",
    "hc2 = Connector(h1, h2)\n",
    "\n",
    "h2.getOutput()"
   ]
  },
  {
   "cell_type": "code",
   "execution_count": null,
   "metadata": {
    "collapsed": true
   },
   "outputs": [],
   "source": [
    "h0 = NandGate('H0')\n",
    "h1 = NandGate('H1')\n",
    "h2 = AndGate('H2')\n",
    "\n",
    "hc1 = Connector(h0, h1)\n",
    "hc2 = Connector(h0, h2)"
   ]
  },
  {
   "cell_type": "code",
   "execution_count": 153,
   "metadata": {
    "collapsed": true
   },
   "outputs": [],
   "source": [
    "g1 = AndGate('G1')\n",
    "g2 = AndGate('G2')\n",
    "g3 = OrGate('G3')\n",
    "g4 = NotGate('G4')\n",
    "\n"
   ]
  },
  {
   "cell_type": "code",
   "execution_count": 154,
   "metadata": {},
   "outputs": [
    {
     "name": "stdout",
     "output_type": "stream",
     "text": [
      "Enter Pin A input for gate G1-->1\n",
      "Enter Pin B input for gate G1-->1\n"
     ]
    },
    {
     "data": {
      "text/plain": [
       "1"
      ]
     },
     "execution_count": 154,
     "metadata": {},
     "output_type": "execute_result"
    }
   ],
   "source": [
    "g1.getOutput()"
   ]
  },
  {
   "cell_type": "code",
   "execution_count": 183,
   "metadata": {
    "collapsed": true
   },
   "outputs": [],
   "source": [
    "g1 = AndGate('G1')\n",
    "g2 = AndGate('G2')\n",
    "g3 = OrGate('G3')\n",
    "g4 = NotGate('G4')\n",
    "c1 = Connector(g1, g3)\n",
    "c2 = Connector(g2, g3)\n",
    "c3 = Connector(g3, g4)"
   ]
  },
  {
   "cell_type": "code",
   "execution_count": 158,
   "metadata": {},
   "outputs": [
    {
     "name": "stdout",
     "output_type": "stream",
     "text": [
      "Enter Pin A input for gate G1-->1\n",
      "Enter Pin B input for gate G1-->1\n",
      "Enter Pin A input for gate G2-->1\n",
      "Enter Pin B input for gate G2-->1\n"
     ]
    },
    {
     "data": {
      "text/plain": [
       "0"
      ]
     },
     "execution_count": 158,
     "metadata": {},
     "output_type": "execute_result"
    }
   ],
   "source": [
    "g4.getOutput()"
   ]
  },
  {
   "cell_type": "code",
   "execution_count": 187,
   "metadata": {
    "collapsed": true
   },
   "outputs": [],
   "source": [
    "g5 = NorGate('G5')\n",
    "g6 = NandGate('G6')\n",
    "g7 = NandGate('G7')"
   ]
  },
  {
   "cell_type": "code",
   "execution_count": 192,
   "metadata": {},
   "outputs": [
    {
     "name": "stdout",
     "output_type": "stream",
     "text": [
      "Enter Pin A input for gate G1-->1\n",
      "Enter Pin B input for gate G1-->1\n",
      "Enter Pin A input for gate G2-->1\n",
      "Enter Pin B input for gate G2-->1\n"
     ]
    },
    {
     "data": {
      "text/plain": [
       "0"
      ]
     },
     "execution_count": 192,
     "metadata": {},
     "output_type": "execute_result"
    }
   ],
   "source": [
    "g5 = NorGate('G5')\n",
    "ct1 = Connector(g1, g5)\n",
    "ct2 = Connector(g2, g5)\n",
    "g5.getOutput()"
   ]
  },
  {
   "cell_type": "code",
   "execution_count": 191,
   "metadata": {},
   "outputs": [
    {
     "name": "stdout",
     "output_type": "stream",
     "text": [
      "Enter Pin A input for gate G1-->1\n",
      "Enter Pin B input for gate G1-->1\n",
      "Enter Pin A input for gate G2-->1\n",
      "Enter Pin B input for gate G2-->1\n"
     ]
    },
    {
     "data": {
      "text/plain": [
       "0"
      ]
     },
     "execution_count": 191,
     "metadata": {},
     "output_type": "execute_result"
    }
   ],
   "source": [
    "g1 = AndGate('G1')\n",
    "g2 = AndGate('G2')\n",
    "g6 = NandGate('G6')\n",
    "ct1 = Connector(g1, g6)\n",
    "ct2 = Connector(g2, g6)\n",
    "g6.getOutput()"
   ]
  },
  {
   "cell_type": "code",
   "execution_count": null,
   "metadata": {
    "collapsed": true
   },
   "outputs": [],
   "source": []
  }
 ],
 "metadata": {
  "kernelspec": {
   "display_name": "Python 3",
   "language": "python",
   "name": "python3"
  },
  "language_info": {
   "codemirror_mode": {
    "name": "ipython",
    "version": 3
   },
   "file_extension": ".py",
   "mimetype": "text/x-python",
   "name": "python",
   "nbconvert_exporter": "python",
   "pygments_lexer": "ipython3",
   "version": "3.6.1"
  }
 },
 "nbformat": 4,
 "nbformat_minor": 2
}
