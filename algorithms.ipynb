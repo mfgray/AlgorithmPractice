{
 "cells": [
  {
   "cell_type": "code",
   "execution_count": 57,
   "metadata": {},
   "outputs": [
    {
     "name": "stdout",
     "output_type": "stream",
     "text": [
      "0\n",
      "-1\n",
      "4\n",
      "3\n",
      "6\n",
      "4\n",
      "3\n",
      "7\n"
     ]
    }
   ],
   "source": [
    "#Binary search\n",
    "#this initial method is bad as it manipulates the array rather than just the index.\n",
    "#it would not scale up well. The solution provided in the next cell is far better.\n",
    "#It makes much more sense to use the indexes only in basic one off searches.\n",
    "\n",
    "def binary_search(input_array, value):\n",
    "    \"\"\"Returns the index of 'value' in the input array \n",
    "    or -1 if value is not contained under the condition\n",
    "    that the input array contains no duplicates and is in ascending order\"\"\"\n",
    "    temp_index = 0\n",
    "    arr_len = len(input_array)\n",
    "    counter=0\n",
    "    \n",
    "    while arr_len > 1 and counter < 5:\n",
    "        counter +=1\n",
    "\n",
    "        arr_len = len(input_array)\n",
    "        if arr_len % 2 == 0:\n",
    "            halfway = (arr_len -1 )//2 \n",
    "        else:\n",
    "            halfway = arr_len //2 \n",
    "        \n",
    "        if input_array[halfway] == value:\n",
    "            temp_index += halfway\n",
    "            return temp_index\n",
    "        \n",
    "        elif input_array[halfway] > value:\n",
    "            input_array = input_array[:halfway]\n",
    "        else:\n",
    "            temp_index += halfway +1\n",
    "            input_array = input_array[halfway +1:]\n",
    "\n",
    "    return -1\n",
    "\n",
    "test_list = [1,3,9,11,15,19,29]\n",
    "test_val1 = 25\n",
    "test_val2 = 15\n",
    "\n",
    "print(binary_search(test_list, test_val1))\n",
    "print(binary_search(test_list, 1))\n",
    "print(binary_search(test_list, test_val2))\n",
    "print(binary_search(test_list, 11))\n",
    "print(binary_search(test_list, 29))\n",
    "test_list.append(40)\n",
    "print(binary_search(test_list, test_val2))\n",
    "print(binary_search(test_list, 11))\n",
    "print(binary_search(test_list, 40))"
   ]
  },
  {
   "cell_type": "code",
   "execution_count": 67,
   "metadata": {},
   "outputs": [
    {
     "name": "stdout",
     "output_type": "stream",
     "text": [
      "-1\n",
      "0\n",
      "4\n",
      "3\n",
      "6\n",
      "4\n",
      "3\n",
      "7\n"
     ]
    }
   ],
   "source": [
    "def binary_search(input_array, value):\n",
    "    \"\"\"Returns the index of 'value' in the input array \n",
    "    or -1 if value is not contained under the condition\n",
    "    that the input array contains no duplicates and is in ascending order\"\"\"\n",
    "    low = 0\n",
    "    high = len(input_array) - 1\n",
    "    \n",
    "    while (low <= high):\n",
    "        mid = (low + high)//2\n",
    "        if (input_array[mid] == value):\n",
    "            return mid\n",
    "        elif (input_array[mid] < value):\n",
    "            low = mid + 1\n",
    "        else:\n",
    "            high = mid -1\n",
    "    return -1\n",
    "\n",
    "print(binary_search(test_list, test_val1))\n",
    "print(binary_search(test_list, 1))\n",
    "print(binary_search(test_list, test_val2))\n",
    "print(binary_search(test_list, 11))\n",
    "print(binary_search(test_list, 29))\n",
    "test_list.append(40)\n",
    "print(binary_search(test_list, test_val2))\n",
    "print(binary_search(test_list, 11))\n",
    "print(binary_search(test_list, 40))"
   ]
  },
  {
   "cell_type": "markdown",
   "metadata": {},
   "source": [
    "The code given for the recursion example appears to be javascript, which is somewhat odd given that were doing python. The example is below, I'll refactor it into python for practice.\n",
    "\n",
    "    function getFib(position) {\n",
    "      if (position == 0) { return 0; }\n",
    "      if (position == 1) { return 1; }\n",
    "      var first = 0,\n",
    "          second = 1,\n",
    "          next = first + second;\n",
    "      for (var i = 2; i < position; i++) {\n",
    "        first = second;\n",
    "        second = next;\n",
    "        next = first + second;\n",
    "      }\n",
    "      return next;\n",
    "    }"
   ]
  },
  {
   "cell_type": "code",
   "execution_count": 71,
   "metadata": {},
   "outputs": [],
   "source": [
    "#refactored example:\n",
    "\n",
    "def get_fib(position):\n",
    "    '''Return the fibonacci sequence value at the given position\n",
    "    of the fibanocci series'''\n",
    "    \n",
    "    if position ==0:\n",
    "        return 0\n",
    "    if position == 1:\n",
    "        return 1\n",
    "    \n",
    "    first, second = 0, 1\n",
    "    next_val = first + second\n",
    "    \n",
    "    for i in range(2,position):\n",
    "        first = second\n",
    "        second = next_val\n",
    "        next_val = first + second\n",
    "        \n",
    "    return next_val\n",
    "    \n",
    "assert get_fib(0) == 0\n",
    "assert get_fib(1) == 1\n",
    "assert get_fib(2) == 1\n",
    "assert get_fib(5) == 5\n",
    "assert get_fib(8) == 21\n",
    "    "
   ]
  },
  {
   "cell_type": "code",
   "execution_count": 76,
   "metadata": {},
   "outputs": [],
   "source": [
    "for i in  range(2,2):\n",
    "    print(i)"
   ]
  },
  {
   "cell_type": "code",
   "execution_count": null,
   "metadata": {
    "collapsed": true
   },
   "outputs": [],
   "source": []
  }
 ],
 "metadata": {
  "kernelspec": {
   "display_name": "Python 3",
   "language": "python",
   "name": "python3"
  },
  "language_info": {
   "codemirror_mode": {
    "name": "ipython",
    "version": 3
   },
   "file_extension": ".py",
   "mimetype": "text/x-python",
   "name": "python",
   "nbconvert_exporter": "python",
   "pygments_lexer": "ipython3",
   "version": "3.6.1"
  }
 },
 "nbformat": 4,
 "nbformat_minor": 1
}
