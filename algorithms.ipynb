{
 "cells": [
  {
   "cell_type": "code",
   "execution_count": 57,
   "metadata": {},
   "outputs": [
    {
     "name": "stdout",
     "output_type": "stream",
     "text": [
      "0\n",
      "-1\n",
      "4\n",
      "3\n",
      "6\n",
      "4\n",
      "3\n",
      "7\n"
     ]
    }
   ],
   "source": [
    "#Binary search\n",
    "#this initial method is bad as it manipulates the array rather than just the index.\n",
    "#it would not scale up well. The solution provided in the next cell is far better.\n",
    "#It makes much more sense to use the indexes only in basic one off searches.\n",
    "\n",
    "def binary_search(input_array, value):\n",
    "    \"\"\"Returns the index of 'value' in the input array \n",
    "    or -1 if value is not contained under the condition\n",
    "    that the input array contains no duplicates and is in ascending order\"\"\"\n",
    "    temp_index = 0\n",
    "    arr_len = len(input_array)\n",
    "    counter=0\n",
    "    \n",
    "    while arr_len > 1 and counter < 5:\n",
    "        counter +=1\n",
    "\n",
    "        arr_len = len(input_array)\n",
    "        if arr_len % 2 == 0:\n",
    "            halfway = (arr_len -1 )//2 \n",
    "        else:\n",
    "            halfway = arr_len //2 \n",
    "        \n",
    "        if input_array[halfway] == value:\n",
    "            temp_index += halfway\n",
    "            return temp_index\n",
    "        \n",
    "        elif input_array[halfway] > value:\n",
    "            input_array = input_array[:halfway]\n",
    "        else:\n",
    "            temp_index += halfway +1\n",
    "            input_array = input_array[halfway +1:]\n",
    "\n",
    "    return -1\n",
    "\n",
    "test_list = [1,3,9,11,15,19,29]\n",
    "test_val1 = 25\n",
    "test_val2 = 15\n",
    "\n",
    "print(binary_search(test_list, test_val1))\n",
    "print(binary_search(test_list, 1))\n",
    "print(binary_search(test_list, test_val2))\n",
    "print(binary_search(test_list, 11))\n",
    "print(binary_search(test_list, 29))\n",
    "test_list.append(40)\n",
    "print(binary_search(test_list, test_val2))\n",
    "print(binary_search(test_list, 11))\n",
    "print(binary_search(test_list, 40))"
   ]
  },
  {
   "cell_type": "code",
   "execution_count": 67,
   "metadata": {},
   "outputs": [
    {
     "name": "stdout",
     "output_type": "stream",
     "text": [
      "-1\n",
      "0\n",
      "4\n",
      "3\n",
      "6\n",
      "4\n",
      "3\n",
      "7\n"
     ]
    }
   ],
   "source": [
    "def binary_search(input_array, value):\n",
    "    \"\"\"Returns the index of 'value' in the input array \n",
    "    or -1 if value is not contained under the condition\n",
    "    that the input array contains no duplicates and is in ascending order\"\"\"\n",
    "    low = 0\n",
    "    high = len(input_array) - 1\n",
    "    \n",
    "    while (low <= high):\n",
    "        mid = (low + high)//2\n",
    "        if (input_array[mid] == value):\n",
    "            return mid\n",
    "        elif (input_array[mid] < value):\n",
    "            low = mid + 1\n",
    "        else:\n",
    "            high = mid -1\n",
    "    return -1\n",
    "\n",
    "print(binary_search(test_list, test_val1))\n",
    "print(binary_search(test_list, 1))\n",
    "print(binary_search(test_list, test_val2))\n",
    "print(binary_search(test_list, 11))\n",
    "print(binary_search(test_list, 29))\n",
    "test_list.append(40)\n",
    "print(binary_search(test_list, test_val2))\n",
    "print(binary_search(test_list, 11))\n",
    "print(binary_search(test_list, 40))"
   ]
  },
  {
   "cell_type": "code",
   "execution_count": null,
   "metadata": {
    "collapsed": true
   },
   "outputs": [],
   "source": []
  }
 ],
 "metadata": {
  "kernelspec": {
   "display_name": "Python 3",
   "language": "python",
   "name": "python3"
  },
  "language_info": {
   "codemirror_mode": {
    "name": "ipython",
    "version": 3
   },
   "file_extension": ".py",
   "mimetype": "text/x-python",
   "name": "python",
   "nbconvert_exporter": "python",
   "pygments_lexer": "ipython3",
   "version": "3.6.1"
  }
 },
 "nbformat": 4,
 "nbformat_minor": 1
}
