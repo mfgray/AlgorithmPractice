{
 "cells": [
  {
   "cell_type": "code",
   "execution_count": 57,
   "metadata": {},
   "outputs": [
    {
     "name": "stdout",
     "output_type": "stream",
     "text": [
      "0\n",
      "-1\n",
      "4\n",
      "3\n",
      "6\n",
      "4\n",
      "3\n",
      "7\n"
     ]
    }
   ],
   "source": [
    "#Binary search\n",
    "#this initial method is bad as it manipulates the array rather than just the index.\n",
    "#it would not scale up well. The solution provided in the next cell is far better.\n",
    "#It makes much more sense to use the indexes only in basic one off searches.\n",
    "\n",
    "def binary_search(input_array, value):\n",
    "    \"\"\"Returns the index of 'value' in the input array \n",
    "    or -1 if value is not contained under the condition\n",
    "    that the input array contains no duplicates and is in ascending order\"\"\"\n",
    "    temp_index = 0\n",
    "    arr_len = len(input_array)\n",
    "    counter=0\n",
    "    \n",
    "    while arr_len > 1 and counter < 5:\n",
    "        counter +=1\n",
    "\n",
    "        arr_len = len(input_array)\n",
    "        if arr_len % 2 == 0:\n",
    "            halfway = (arr_len -1 )//2 \n",
    "        else:\n",
    "            halfway = arr_len //2 \n",
    "        \n",
    "        if input_array[halfway] == value:\n",
    "            temp_index += halfway\n",
    "            return temp_index\n",
    "        \n",
    "        elif input_array[halfway] > value:\n",
    "            input_array = input_array[:halfway]\n",
    "        else:\n",
    "            temp_index += halfway +1\n",
    "            input_array = input_array[halfway +1:]\n",
    "\n",
    "    return -1\n",
    "\n",
    "test_list = [1,3,9,11,15,19,29]\n",
    "test_val1 = 25\n",
    "test_val2 = 15\n",
    "\n",
    "print(binary_search(test_list, test_val1))\n",
    "print(binary_search(test_list, 1))\n",
    "print(binary_search(test_list, test_val2))\n",
    "print(binary_search(test_list, 11))\n",
    "print(binary_search(test_list, 29))\n",
    "test_list.append(40)\n",
    "print(binary_search(test_list, test_val2))\n",
    "print(binary_search(test_list, 11))\n",
    "print(binary_search(test_list, 40))"
   ]
  },
  {
   "cell_type": "code",
   "execution_count": 67,
   "metadata": {},
   "outputs": [
    {
     "name": "stdout",
     "output_type": "stream",
     "text": [
      "-1\n",
      "0\n",
      "4\n",
      "3\n",
      "6\n",
      "4\n",
      "3\n",
      "7\n"
     ]
    }
   ],
   "source": [
    "def binary_search(input_array, value):\n",
    "    \"\"\"Returns the index of 'value' in the input array \n",
    "    or -1 if value is not contained under the condition\n",
    "    that the input array contains no duplicates and is in ascending order\"\"\"\n",
    "    low = 0\n",
    "    high = len(input_array) - 1\n",
    "    \n",
    "    while (low <= high):\n",
    "        mid = (low + high)//2\n",
    "        if (input_array[mid] == value):\n",
    "            return mid\n",
    "        elif (input_array[mid] < value):\n",
    "            low = mid + 1\n",
    "        else:\n",
    "            high = mid -1\n",
    "    return -1\n",
    "\n",
    "print(binary_search(test_list, test_val1))\n",
    "print(binary_search(test_list, 1))\n",
    "print(binary_search(test_list, test_val2))\n",
    "print(binary_search(test_list, 11))\n",
    "print(binary_search(test_list, 29))\n",
    "test_list.append(40)\n",
    "print(binary_search(test_list, test_val2))\n",
    "print(binary_search(test_list, 11))\n",
    "print(binary_search(test_list, 40))"
   ]
  },
  {
   "cell_type": "markdown",
   "metadata": {},
   "source": [
    "The code given for the recursion example appears to be javascript, which is somewhat odd given that were doing python. The example is below, I'll refactor it into python for practice.\n",
    "\n",
    "    function getFib(position) {\n",
    "      if (position == 0) { return 0; }\n",
    "      if (position == 1) { return 1; }\n",
    "      var first = 0,\n",
    "          second = 1,\n",
    "          next = first + second;\n",
    "      for (var i = 2; i < position; i++) {\n",
    "        first = second;\n",
    "        second = next;\n",
    "        next = first + second;\n",
    "      }\n",
    "      return next;\n",
    "    }"
   ]
  },
  {
   "cell_type": "code",
   "execution_count": 77,
   "metadata": {},
   "outputs": [],
   "source": [
    "#refactored example:\n",
    "\n",
    "def get_fib(position):\n",
    "    '''Return the fibonacci sequence value at the given position\n",
    "    of the fibanocci series'''\n",
    "    \n",
    "    if position ==0:\n",
    "        return 0\n",
    "    if position == 1:\n",
    "        return 1\n",
    "    \n",
    "    first, second = 0, 1\n",
    "    next_val = first + second\n",
    "    \n",
    "    for i in range(2,position):\n",
    "        first = second\n",
    "        second = next_val\n",
    "        next_val = first + second\n",
    "        \n",
    "    return next_val\n",
    "    \n",
    "assert get_fib(0) == 0\n",
    "assert get_fib(1) == 1\n",
    "assert get_fib(2) == 1\n",
    "assert get_fib(5) == 5\n",
    "assert get_fib(8) == 21\n",
    "    "
   ]
  },
  {
   "cell_type": "code",
   "execution_count": 83,
   "metadata": {},
   "outputs": [],
   "source": [
    "def get_fib2(position):\n",
    "    '''Return the fibonacci sequence value at the given position\n",
    "    of the fibanocci series using recursion to calculated it'''\n",
    "    \n",
    "    if position <=0:\n",
    "        value = 0\n",
    "    elif position == 1:\n",
    "        value = 1\n",
    "    else:\n",
    "        value = get_fib2(position-1) + get_fib2(position-2)\n",
    "    \n",
    "    return value\n",
    "\n",
    "assert get_fib2(0) == 0\n",
    "assert get_fib2(1) == 1\n",
    "assert get_fib2(2) == 1\n",
    "assert get_fib2(5) == 5\n",
    "assert get_fib2(8) == 21\n",
    "    "
   ]
  },
  {
   "cell_type": "code",
   "execution_count": 85,
   "metadata": {
    "collapsed": true
   },
   "outputs": [],
   "source": [
    "def get_fib2(position):\n",
    "    '''Udacity provided example for recursion'''\n",
    "    \n",
    "    if position == 0 or position == 1:\n",
    "        return position\n",
    "    return get_fib(position - 1) + get_fib(position - 2)\n",
    "\n",
    "assert get_fib2(0) == 0\n",
    "assert get_fib2(1) == 1\n",
    "assert get_fib2(2) == 1\n",
    "assert get_fib2(5) == 5\n",
    "assert get_fib2(8) == 21"
   ]
  },
  {
   "cell_type": "code",
   "execution_count": 117,
   "metadata": {},
   "outputs": [
    {
     "name": "stdout",
     "output_type": "stream",
     "text": [
      "[ 2  3  4  5  6  7  8  9 10 11 12 13 14 15 16 17 18 19]\n",
      "[ 2 18 19 12  8  6  4 15  7 16 10  5 11 14  9 13 17  3]\n",
      "[ 2  3  4  5  6  7  8  9 10 11 12 13 14 15 16 17 18 19]\n"
     ]
    }
   ],
   "source": [
    "#naive bubble sort implementation\n",
    "import numpy as np\n",
    "\n",
    "sorted_array = np.arange(2,20)\n",
    "print(sorted_array)\n",
    "unsorted_array = np.random.permutation(sorted_array)\n",
    "print(unsorted_array)\n",
    "\n",
    "def bubble_sort(arr):\n",
    "    \n",
    "    for i,_ in enumerate(arr):\n",
    "        for j in range(len(arr)-1-i):\n",
    "\n",
    "            if arr[j] > arr[j+1]:\n",
    "                temp = arr[j+1]\n",
    "                arr[j+1] = arr[j]\n",
    "                arr[j] = temp\n",
    "    return arr\n",
    "            \n",
    "\n",
    "print(bubble_sort(unsorted_array))"
   ]
  },
  {
   "cell_type": "code",
   "execution_count": null,
   "metadata": {
    "collapsed": true
   },
   "outputs": [],
   "source": [
    "# selection sort"
   ]
  },
  {
   "cell_type": "code",
   "execution_count": 150,
   "metadata": {},
   "outputs": [
    {
     "name": "stdout",
     "output_type": "stream",
     "text": [
      "[ 2  3  4  5  6  7  8  9 10 11 12 13 14 15 16 17 18 19]\n",
      "[10 19  5 15 14  2 11 18  9 16 13 12  4  7  6  8  3 17]\n",
      "[ 2  3  4  5  6  7  8  9 10 11 12 13 14 15 16 17 18 19]\n",
      "[ 2  3  4  5  6  7  8  9 10 11 12 13 14 15 16 17 18 19]\n"
     ]
    }
   ],
   "source": [
    "sorted_array = np.arange(2,20)\n",
    "print(sorted_array)\n",
    "unsorted_array = np.random.permutation(sorted_array)\n",
    "print(unsorted_array)\n",
    "\n",
    "def selection_sort(arr):\n",
    "    n = len(arr)\n",
    "    \n",
    "    for i in range(n-1):\n",
    "        low_idx = i\n",
    "        current_low = arr[low_idx]\n",
    "        \n",
    "        for j in range(i+1,n):\n",
    "            if arr[j] < current_low:\n",
    "                low_idx = j\n",
    "                current_low = arr[j]\n",
    "        \n",
    "        temp = arr[i]\n",
    "        arr[i] = current_low\n",
    "        arr[low_idx] = temp\n",
    "    \n",
    "    return arr\n",
    "            \n",
    "print(selection_sort(unsorted_array))\n",
    "print(unsorted_array)"
   ]
  },
  {
   "cell_type": "code",
   "execution_count": 226,
   "metadata": {},
   "outputs": [],
   "source": [
    "def insertion_sort(arr):\n",
    "    n = len(arr)\n",
    "    for pivot in range(1,n):\n",
    "        \n",
    "        temp = arr[pivot]\n",
    "        \n",
    "        for j in reversed(range(pivot+1)):\n",
    "\n",
    "            if arr[j-1] > temp:\n",
    "                arr[j] = arr[j-1]\n",
    "            else:\n",
    "                break\n",
    "                \n",
    "        arr[j] = temp\n",
    "\n",
    "    return arr"
   ]
  },
  {
   "cell_type": "code",
   "execution_count": 229,
   "metadata": {
    "collapsed": true
   },
   "outputs": [],
   "source": [
    "def insertion_sort2(arr):\n",
    "    n = len(arr)\n",
    "    for pivot in range(1,n):\n",
    "        j = pivot\n",
    "        temp = arr[pivot]\n",
    "        \n",
    "        while j > 0 and arr[j-1] > temp:\n",
    "                arr[j] = arr[j-1]\n",
    "                j += -1\n",
    "        arr[j] = temp\n",
    "    return arr"
   ]
  },
  {
   "cell_type": "code",
   "execution_count": 230,
   "metadata": {},
   "outputs": [
    {
     "name": "stdout",
     "output_type": "stream",
     "text": [
      "[ 2  3  4  5  6  7  8  9 10 11 12 13 14 15 16 17 18 19]\n",
      "[19 13 18 16  6  2 12  5  9  8 11 14  4  3 10 17 15  7]\n",
      "sorted:\n",
      "[ 2  3  4  5  6  7  8  9 10 11 12 13 14 15 16 17 18 19]\n"
     ]
    }
   ],
   "source": [
    "sorted_array = np.arange(2,20)\n",
    "print(sorted_array)\n",
    "unsorted_array = np.random.permutation(sorted_array)\n",
    "print(unsorted_array)\n",
    "print('sorted:')\n",
    "print(insertion_sort2(unsorted_array))"
   ]
  },
  {
   "cell_type": "code",
   "execution_count": null,
   "metadata": {
    "collapsed": true
   },
   "outputs": [],
   "source": [
    "#https://www.khanacademy.org/computing/computer-science/algorithms/merge-sort/p/challenge-implement-merge-sort\n",
    "\n",
    "# var mergeSort = function(array, p, r) {\n",
    "#     if (p < r) {\n",
    "#         var q = Math.floor((p + r) / 2);\n",
    "#         mergeSort(array, p, q);\n",
    "#         mergeSort(array, q+1, r);\n",
    "#         merge(array, p, q, r);\n",
    "#     }\n",
    "# };\n",
    "\n",
    "#merge function(array, p, q, r)\n",
    "    #copy array[p:q] to low array, array[q+1:r] to high array\n",
    "    \n",
    "    #initialize vars\n",
    "    i, j = 0,0\n",
    "    k = p\n",
    "    #while i less than or equal to q-p and j less than or equal to r-q+1\n",
    "        #compared i and jth position in low half to high half\n",
    "            #whichever is lower put in k, inc k, inc whichever was lower\n",
    "    #check if i, j, less than q, r:\n",
    "        #add remaining list if less than\n",
    "        \n",
    "        \n",
    "# var merge = function(array, p, q, r) {\n",
    "#     var lowHalf = [];\n",
    "#     var highHalf = [];\n",
    "\n",
    "#     var k = p;\n",
    "#     var i;\n",
    "#     var j;\n",
    "#     for (i = 0; k <= q; i++, k++) {\n",
    "#         lowHalf[i] = array[k];\n",
    "#     }\n",
    "#     for (j = 0; k <= r; j++, k++) {\n",
    "#         highHalf[j] = array[k];\n",
    "#     }\n",
    "\n",
    "#     k = p;\n",
    "#     i = 0;\n",
    "#     j = 0;\n",
    "    \n",
    "#     // Repeatedly compare the lowest untaken element in\n",
    "#     //  lowHalf with the lowest untaken element in highHalf\n",
    "#     //  and copy the lower of the two back into array\n",
    "#     while (i < q - p + 1 && j < r - q){\n",
    " \n",
    "#         if (lowHalf[i] < highHalf[j]){\n",
    "#          array[k] = lowHalf[i];\n",
    "#          i++;\n",
    "#          k++;\n",
    "#         } else {\n",
    "#          array[k] = highHalf[j];\n",
    "#          j++;\n",
    "#          k++;\n",
    "#         }\n",
    "#     }\n",
    "    \n",
    "#     while(i < q - p + 1) {\n",
    "#         array[k] = lowHalf[i];\n",
    "#          i++;\n",
    "#          k++;\n",
    "#     }\n",
    "    \n",
    "#     while( j < r - q){\n",
    "#         array[k] = highHalf[j];\n",
    "#         j++;\n",
    "#         k++;\n",
    "        \n",
    "#     }"
   ]
  },
  {
   "cell_type": "code",
   "execution_count": 290,
   "metadata": {},
   "outputs": [],
   "source": [
    "#python merge sort\n",
    "\n",
    "def merge_sort(array):\n",
    "    p = 0\n",
    "    r = len(array) -1\n",
    "    merge_sort_(array, p, r)\n",
    "\n",
    "def merge_sort_(array, p, r):\n",
    "    #divide array, define a pivot point\n",
    "    if p < r:\n",
    "        q = (p + r) // 2\n",
    "        #call mergeSort on each half\n",
    "        merge_sort_(array, p, q )\n",
    "        merge_sort_(array, q+1, r)\n",
    "        #merge each half\n",
    "        ms_merge(array, p, q, r)\n",
    "\n",
    "def ms_merge(array, p, q, r):\n",
    "    #copy arrays to low and high\n",
    "    low_half = [val for val in array[p:q+1]]\n",
    "    high_half = [val for val in array[q+1:r+1]]\n",
    "    #until one half used up, compare values put in array\n",
    "\n",
    "    i, j = 0, 0\n",
    "    k = p\n",
    "    while (i < q - p + 1 and j < r - q):\n",
    "        if (low_half[i] < high_half[j]):\n",
    "            array[k] = low_half[i]\n",
    "            i += 1\n",
    "            k += 1\n",
    "        else:\n",
    "            array[k] = high_half[j]\n",
    "            j += 1\n",
    "            k += 1\n",
    "    #put in remaining values for other half\n",
    "    while (i <  q - p + 1):\n",
    "        array[k] = low_half[i]\n",
    "        i += 1\n",
    "        k += 1\n",
    "\n",
    "    while (j < r - q):\n",
    "        array[k] = high_half[j]\n",
    "        j += 1\n",
    "        k += 1\n",
    "    \n",
    "    "
   ]
  },
  {
   "cell_type": "code",
   "execution_count": 299,
   "metadata": {},
   "outputs": [
    {
     "name": "stdout",
     "output_type": "stream",
     "text": [
      "[17  7  4  5 19 15 14 -5 16 10 12  8  9 18  3  6 13 11]\n",
      "[-5  3  4  5  6  7  8  9 10 11 12 13 14 15 16 17 18 19]\n",
      "[-5  3  4  5  6  7  8  9 10 11 12 13 14 15 16 17 18 19]\n"
     ]
    }
   ],
   "source": [
    "sorted_array = np.arange(2,20)\n",
    "sorted_array[0] = -5\n",
    "unsorted_array = np.random.permutation(sorted_array.copy())\n",
    "print(unsorted_array)\n",
    "print(sorted_array)\n",
    "\n",
    "merge_sort(unsorted_array)\n",
    "print(unsorted_array)\n",
    "assert np.array_equal(unsorted_array, sorted_array)"
   ]
  },
  {
   "cell_type": "code",
   "execution_count": null,
   "metadata": {
    "collapsed": true
   },
   "outputs": [],
   "source": [
    "#quick sort from khan academy\n",
    "#https://www.khanacademy.org/computing/computer-science/algorithms/quick-sort/a/overview-of-quicksort\n",
    "# // This function partitions given array and returns \n",
    "# //  the index of the pivot.\n",
    "# var partition=function(array, p, r){\n",
    "#     // This code has been purposefully obfuscated,\n",
    "#     // as you will implement it yourself in next challenge\n",
    "#     var e=array,t=p,n=r;var r=function(e,t,n){var r=e[t];e[t]=e[n];e[n]=r;};var i=t;for(var s=t;s<n;s++){if(e[s]<=e[n]){r(e,s,i);i++;}}r(e,n,i);return i;\n",
    "# };\n",
    "\n",
    "\n",
    "# var quickSort = function(array, p, r) {\n",
    "#     if (p < r) {\n",
    "#     var pivot = partition(array, p, r);\n",
    "#     quickSort(array, p, pivot-1);\n",
    "#     quickSort(array, pivot+1, r);\n",
    "    \n",
    "#     }\n",
    "    \n",
    "# };\n",
    "\n",
    "# var array = [9, 7, 5, 11, 12, 2, 14, 3, 10, 6];\n",
    "# quickSort(array, 0, array.length-1);\n",
    "# println(\"Array after sorting: \" + array);\n",
    "# Program.assertEqual(array, [2,3,5,6,7,9,10,11,12,14]);\n",
    "\n",
    "\n",
    "# var swap = function(array, firstIndex, secondIndex) {\n",
    "#     var temp = array[firstIndex];\n",
    "#     array[firstIndex] = array[secondIndex];\n",
    "#     array[secondIndex] = temp;\n",
    "# };\n",
    "\n",
    "# var partition = function(array, p, r) {\n",
    "#     var q=p;\n",
    "#     for (var j = p; j < r; j++) {\n",
    "#         if (array[j] <= array[r]) {\n",
    "#             swap(array, q, j);\n",
    "#             q++;\n",
    "#         }\n",
    "#     }\n",
    "#     swap(array,j,q);\n",
    "#     return q;\n",
    "# };"
   ]
  },
  {
   "cell_type": "code",
   "execution_count": 303,
   "metadata": {
    "collapsed": true
   },
   "outputs": [],
   "source": [
    "def quick_sort(array):\n",
    "    p = 0\n",
    "    r = len(array) -1\n",
    "    merge_sort_(array, p, r)\n",
    "\n",
    "def quick_sort_(array, p, r):\n",
    "    #if the sub array is bigger then size 1\n",
    "    if p-r > 1:\n",
    "        #then partition it\n",
    "        q = partition(array, p, r)\n",
    "        #call quick sort on the resulting halves\n",
    "        quick_sort_(array, p, q)\n",
    "        quick_sort_(array, q, r)\n",
    "\n",
    "\n",
    "def partition(array, p, r):\n",
    "    pivot_val = array[r]\n",
    "    \n",
    "    j = p\n",
    "    q  = p\n",
    "    \n",
    "    for j, val in enumerate(array[p:r], p):\n",
    "        if val < pivot_val: \n",
    "            swap(array, q, j)\n",
    "            q += 1\n",
    "    swap(q,r)\n",
    "    return q\n",
    "\n",
    "def swap(array, first_index, second_index):\n",
    "    #swaps the elements at the given indexes of the array\n",
    "    temp = array[first_index]\n",
    "    array[first_index] = array[second_index]\n",
    "    array[first_index] = temp"
   ]
  },
  {
   "cell_type": "code",
   "execution_count": 304,
   "metadata": {},
   "outputs": [
    {
     "name": "stdout",
     "output_type": "stream",
     "text": [
      "[10 13  7 17 -5 18 11  6 15  8 19 14 12  9  5  3 16  4]\n",
      "[-5  3  4  5  6  7  8  9 10 11 12 13 14 15 16 17 18 19]\n",
      "[-5  3  4  5  6  7  8  9 10 11 12 13 14 15 16 17 18 19]\n"
     ]
    }
   ],
   "source": [
    "sorted_array = np.arange(2,20)\n",
    "sorted_array[0] = -5\n",
    "unsorted_array = np.random.permutation(sorted_array.copy())\n",
    "print(unsorted_array)\n",
    "print(sorted_array)\n",
    "\n",
    "quick_sort(unsorted_array)\n",
    "print(unsorted_array)\n",
    "assert np.array_equal(unsorted_array, sorted_array)"
   ]
  },
  {
   "cell_type": "code",
   "execution_count": 312,
   "metadata": {},
   "outputs": [],
   "source": [
    "def is_palindrome(str):\n",
    "    #base 1\n",
    "    if len(str) == 0 or len(str) == 1:\n",
    "        return True\n",
    "    elif str[0] != str[-1]:\n",
    "        return False\n",
    "    else:\n",
    "        return is_palindrome(str[1:-1])\n",
    "assert is_palindrome('a')\n",
    "assert ~is_palindrome('az')\n",
    "assert is_palindrome('ysaeeasy')"
   ]
  },
  {
   "cell_type": "markdown",
   "metadata": {},
   "source": [
    "Quick sort\n",
    "\n",
    "Strategy:\n",
    "Sort subarray arr[p:r] of the array\n",
    "Start with subarray arr[0:r]\n",
    "\n",
    "divide:\n",
    "choose a pivot in the sub array, move elements greater than pivot to right, and less than the pivot to the left of the pivot. By convention choose the pivot was the right most element.\n",
    "\n",
    "conquer:\n",
    "recursively sort the left and right side of the pivot.\n",
    "\n",
    "base case is arrays of less than 2. I.e. 1 and zero\n"
   ]
  }
 ],
 "metadata": {
  "kernelspec": {
   "display_name": "Python 3",
   "language": "python",
   "name": "python3"
  },
  "language_info": {
   "codemirror_mode": {
    "name": "ipython",
    "version": 3
   },
   "file_extension": ".py",
   "mimetype": "text/x-python",
   "name": "python",
   "nbconvert_exporter": "python",
   "pygments_lexer": "ipython3",
   "version": "3.6.1"
  }
 },
 "nbformat": 4,
 "nbformat_minor": 1
}
