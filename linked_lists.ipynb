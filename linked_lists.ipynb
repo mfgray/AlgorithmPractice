{
 "cells": [
  {
   "cell_type": "code",
   "execution_count": 37,
   "metadata": {
    "collapsed": false
   },
   "outputs": [],
   "source": [
    "class Element(object):\n",
    "    def __init__(self, value):\n",
    "        self.value = value\n",
    "        self.next = None\n",
    "        \n",
    "class LinkedList(object):\n",
    "    def __init__(self, head=None):\n",
    "        self.head = head\n",
    "        \n",
    "    def append(self, new_element):\n",
    "        current = self.head\n",
    "        if self.head:\n",
    "            while current.next:\n",
    "                current = current.next\n",
    "            current.next = new_element\n",
    "        else:\n",
    "            self.head = new_element\n",
    "            \n",
    "    def get_position(self, position):\n",
    "        \"\"\"Get an element from a particular position.\n",
    "        Assume the first position is \"1\".\n",
    "        Return \"None\" if position is not in the list.\"\"\"\n",
    "        posit_counter = 1\n",
    "        current = self.head\n",
    "        while current:\n",
    "            if posit_counter == position:\n",
    "                return current\n",
    "            current = current.next\n",
    "            posit_counter += 1\n",
    "        return None\n",
    "    \n",
    "    def insert(self, new_element, position):\n",
    "        \"\"\"Insert a new node at the given position.\n",
    "        Assume the first position is \"1\".\n",
    "        Inserting at position 3 means between\n",
    "        the 2nd and 3rd elements.\"\"\"\n",
    "        if position == 1:\n",
    "            new_element.next = self.head\n",
    "            self.head = new_element\n",
    "        else:\n",
    "            prior = self.get_position(position - 1)\n",
    "            \n",
    "            if not prior:\n",
    "                raise IndexError('list index out of range')\n",
    "            \n",
    "            new_element.next = prior.next\n",
    "            prior.next = new_element\n",
    "        \n",
    "    def delete(self, value):\n",
    "        \"\"\"Delete the first node with a given value.\"\"\"\n",
    "        if self.head.value == value:\n",
    "            temp = self.head.next\n",
    "            del self.head\n",
    "            self.head = temp\n",
    "        else:\n",
    "            current = self.head\n",
    "            while current.next:\n",
    "                prior = current\n",
    "                current = current.next\n",
    "                \n",
    "                if value == current.value:\n",
    "                    prior.next = current.next\n",
    "                    del current\n",
    "                    break\n",
    "\n",
    "    def length(self):\n",
    "        length_counter = 0\n",
    "        current =  self.head\n",
    "        if self.head:\n",
    "            length_counter += 1\n",
    "            while current.next:\n",
    "                length_counter +=1\n",
    "                current = current.next\n",
    "        return length_counter\n",
    "    "
   ]
  },
  {
   "cell_type": "code",
   "execution_count": 38,
   "metadata": {
    "collapsed": false
   },
   "outputs": [
    {
     "name": "stdout",
     "output_type": "stream",
     "text": [
      "1\n"
     ]
    }
   ],
   "source": [
    "if not None:\n",
    "    print(1)"
   ]
  },
  {
   "cell_type": "code",
   "execution_count": 43,
   "metadata": {
    "collapsed": false
   },
   "outputs": [
    {
     "name": "stdout",
     "output_type": "stream",
     "text": [
      "length:\n",
      "0\n",
      "1\n",
      "length:\n",
      "2\n",
      "3\n",
      "3\n",
      "4\n",
      "length:\n",
      "3\n",
      "length:\n",
      "1\n",
      "1\n",
      "2\n",
      "4\n"
     ]
    }
   ],
   "source": [
    "# Test cases\n",
    "# Set up some Elements\n",
    "e1 = Element(1)\n",
    "e2 = Element(2)\n",
    "e3 = Element(3)\n",
    "e4 = Element(4)\n",
    "\n",
    "# Start setting up a LinkedList\n",
    "ll = LinkedList(e1)\n",
    "print 'length:'\n",
    "print ll.length()\n",
    "ll.append(e2)\n",
    "print ll.length()\n",
    "print 'length:'\n",
    "ll.append(e3)\n",
    "print ll.length()\n",
    "\n",
    "# Test get_position\n",
    "# Should print 3\n",
    "print ll.head.next.next.value\n",
    "# Should also print 3\n",
    "print ll.get_position(3).value\n",
    "\n",
    "# Test insert\n",
    "ll.insert(e4,3)\n",
    "# Should print 4 now\n",
    "print ll.get_position(3).value\n",
    "\n",
    "# Test delete\n",
    "print 'length:'\n",
    "print ll.length()\n",
    "ll.delete(1)\n",
    "ll.delete(3)\n",
    "print 'length:'\n",
    "print ll.length()\n",
    "ll.insert(e1,1)\n",
    "# Should print 2 now\n",
    "print ll.get_position(1).value\n",
    "# Should print 4 now\n",
    "print ll.get_position(2).value\n",
    "# Should print 3 now\n",
    "print ll.get_position(3).value"
   ]
  },
  {
   "cell_type": "code",
   "execution_count": null,
   "metadata": {
    "collapsed": true
   },
   "outputs": [],
   "source": []
  }
 ],
 "metadata": {
  "anaconda-cloud": {},
  "kernelspec": {
   "display_name": "Python [Root]",
   "language": "python",
   "name": "Python [Root]"
  },
  "language_info": {
   "codemirror_mode": {
    "name": "ipython",
    "version": 2
   },
   "file_extension": ".py",
   "mimetype": "text/x-python",
   "name": "python",
   "nbconvert_exporter": "python",
   "pygments_lexer": "ipython2",
   "version": "2.7.11"
  }
 },
 "nbformat": 4,
 "nbformat_minor": 0
}
